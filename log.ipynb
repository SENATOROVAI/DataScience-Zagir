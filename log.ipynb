{
 "cells": [
  {
   "cell_type": "code",
   "execution_count": 2,
   "metadata": {},
   "outputs": [
    {
     "data": {
      "text/plain": [
       "'Этот модуль предназначен для ведения отчётов по пройденным темам.'"
      ]
     },
     "execution_count": 2,
     "metadata": {},
     "output_type": "execute_result"
    }
   ],
   "source": [
    "\"\"\"Этот модуль предназначен для ведения отчётов по пройденным темам.\"\"\""
   ]
  },
  {
   "cell_type": "markdown",
   "metadata": {},
   "source": [
    "04/11\n",
    "1. Разобрали понятие множеств.\n",
    "2. Рассмотрели различные виды последовательностей.\n",
    "3. Обсудили определение последовательности."
   ]
  },
  {
   "cell_type": "markdown",
   "metadata": {},
   "source": [
    "06/11\n",
    "1. Обозначили вклад в мат.анализ Коши\n",
    "2. Вспомнили про рекуррентный и общий способы задания последовательностей\n",
    "3. Разобрали доказательство в кванторах\n",
    "4. Нарисовали окрестности для последовательностей, и подобрали для них\n",
    "особое число N"
   ]
  }
 ],
 "metadata": {
  "kernelspec": {
   "display_name": "Python 3",
   "language": "python",
   "name": "python3"
  },
  "language_info": {
   "codemirror_mode": {
    "name": "ipython",
    "version": 3
   },
   "file_extension": ".py",
   "mimetype": "text/x-python",
   "name": "python",
   "nbconvert_exporter": "python",
   "pygments_lexer": "ipython3",
   "version": "3.12.1"
  }
 },
 "nbformat": 4,
 "nbformat_minor": 2
}
